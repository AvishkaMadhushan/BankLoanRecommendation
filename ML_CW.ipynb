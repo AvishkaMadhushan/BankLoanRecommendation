{
 "cells": [
  {
   "cell_type": "code",
   "execution_count": 252,
   "metadata": {},
   "outputs": [],
   "source": [
    "import pandas as pd\n",
    "import numpy as np\n",
    "from sklearn.ensemble import RandomForestClassifier\n",
    "from sklearn.model_selection import train_test_split,GridSearchCV\n",
    "import matplotlib.pyplot as plt\n",
    "from sklearn.metrics import classification_report\n",
    "from sklearn.preprocessing import StandardScaler\n",
    "from tensorflow.keras.models import Sequential\n",
    "from tensorflow.keras.layers import Dense\n",
    "from sklearn.feature_selection import mutual_info_classif, SelectKBest\n",
    "from imblearn.over_sampling import SMOTE"
   ]
  },
  {
   "cell_type": "code",
   "execution_count": 229,
   "metadata": {},
   "outputs": [],
   "source": [
    "data = pd.read_csv('bank_data.csv')\n",
    "\n",
    "# convert to binary values of housing, loan, default\n",
    "data['housing'] = data['housing'].map({'yes' : 1, 'no' : 0})\n",
    "data['default'] = data['default'].map({'yes': 1, 'no' :0})\n",
    "data['loan'] = data['loan'].map({'yes' :1, 'no' :0})\n",
    "\n",
    "\n",
    "# encode martial type\n",
    "data['marital_single'] = data['marital'].apply(lambda x:1 if 'single' in x else 0)\n",
    "data['marital_married'] = data['marital'].apply(lambda x:1 if 'married' in x else 0)\n",
    "data['marital_divorced'] = data['marital'].apply(lambda x:1 if 'divorced' in x else 0)\n",
    "\n",
    "# encode education type\n",
    "data['education_primary'] = data['education'].apply(lambda x:1 if 'primary' in x else 0 )\n",
    "data['education_secondary'] = data['education'].apply(lambda x:1 if 'secondary' in x else 0 )\n",
    "data['education_tertiary'] = data['education'].apply(lambda x:1 if 'tertiary' in x else 0 )\n",
    "data['education_others'] = data['education'].apply(lambda x:1 if 'others' in x else 0 )\n",
    "\n",
    "# encode contact type\n",
    "data['contact_cellular'] = data['contact'].apply(lambda x:1 if 'cellular' in x else 0)\n",
    "data['contact_telephone'] = data['contact'].apply(lambda x:1 if 'telephone' in x else 0)\n",
    "data['contact_unknown'] = data['contact'].apply(lambda x:1 if 'unknown' in x else 0)\n",
    "\n",
    "# one hot encode of job type\n",
    "def job_type(input):\n",
    "    if input == 'self-employed' or input == 'entrepreneur' or input == 'unemployed' or input == 'housemaid' or input == 'student' or input == 'unknown' :\n",
    "        return 'other_job'\n",
    "    else:\n",
    "        return input\n",
    "data['job'] = data['job'].apply(job_type)\n",
    "\n",
    "data['blue-collar'] = data['job'].apply(lambda x:1 if 'blue-collar' in x else 0)\n",
    "data['management'] = data['job'].apply(lambda x:1 if 'management' in x else 0)\n",
    "data['technician'] = data['job'].apply(lambda x:1 if 'technician' in x else 0)\n",
    "data['admin'] = data['job'].apply(lambda x:1 if 'admin' in x else 0)\n",
    "data['services'] = data['job'].apply(lambda x:1 if 'services' in x else 0)\n",
    "data['retired'] = data['job'].apply(lambda x:1 if 'retired' in x else 0)\n",
    "data['other_job'] = data['job'].apply(lambda x:1 if 'other_job' in x else 0)\n",
    "\n",
    "# one hot encoding of poutcome\n",
    "data['poutcome_unknown'] = data['poutcome'].apply(lambda x:1 if 'unknown' in x else 0)\n",
    "data['poutcome_failure'] = data['poutcome'].apply(lambda x:1 if 'failure' in x else 0)\n",
    "data['poutcome_other'] = data['poutcome'].apply(lambda x:1 if 'other' in x else 0)\n",
    "data['poutcome_success'] = data['poutcome'].apply(lambda x:1 if 'success' in x else 0)\n",
    "\n",
    "# one hot encoding of y values\n",
    "data['y'] = data['y'].map({'yes' :1, 'no' :0})\n",
    "\n",
    "# one hot encoding of months\n",
    "data['jan_month'] = data['month'].apply(lambda x:1 if 'jan' in x else 0)\n",
    "data['feb_month'] = data['month'].apply(lambda x:1 if 'feb' in x else 0)\n",
    "data['mar_month'] = data['month'].apply(lambda x:1 if 'mar' in x else 0)\n",
    "data['apr_month'] = data['month'].apply(lambda x:1 if 'apr' in x else 0)\n",
    "data['may_month'] = data['month'].apply(lambda x:1 if 'may' in x else 0)\n",
    "data['jun_month'] = data['month'].apply(lambda x:1 if 'jun' in x else 0)\n",
    "data['jul_month'] = data['month'].apply(lambda x:1 if 'jul' in x else 0)\n",
    "data['aug_month'] = data['month'].apply(lambda x:1 if 'aug' in x else 0)\n",
    "data['sep_month'] = data['month'].apply(lambda x:1 if 'sep' in x else 0)\n",
    "data['oct_month'] = data['month'].apply(lambda x:1 if 'oct' in x else 0)\n",
    "data['nov_month'] = data['month'].apply(lambda x:1 if 'nov' in x else 0)\n",
    "data['dec_month'] = data['month'].apply(lambda x:1 if 'dec' in x else 0)\n",
    "\n",
    "\n",
    "# remove columns\n",
    "data = data.drop(columns=['education', 'marital', 'contact', 'job', 'month', 'poutcome'])\n",
    "\n",
    "# one hot encoding of data set\n",
    "data = pd.get_dummies(data)\n",
    "\n",
    "\n"
   ]
  },
  {
   "cell_type": "code",
   "execution_count": 253,
   "metadata": {},
   "outputs": [
    {
     "name": "stdout",
     "output_type": "stream",
     "text": [
      "Best Parameters: {'max_depth': None, 'min_samples_leaf': 1, 'min_samples_split': 2, 'n_estimators': 100}\n",
      "Best Accuracy: 0.9244259778400746\n"
     ]
    }
   ],
   "source": [
    "# split the dataset into features and target\n",
    "X = data.drop(columns=['y'])\n",
    "y = data['y']\n",
    "\n",
    "# split data into training and testing sets\n",
    "X_train, X_test, y_train, y_test = train_test_split(X, y, test_size=0.25, random_state=40 )\n",
    "\n",
    "# apply the SMOTE to balance  the target variable\n",
    "smote = SMOTE(random_state=40)\n",
    "X_train_balanced, y_train_balanced = smote.fit_resample(X_train, y_train)\n",
    "\n",
    "# Random Forest model\n",
    "rf = RandomForestClassifier(random_state=42)\n",
    "\n",
    "# Hyperparameter grid\n",
    "param_grid = {\n",
    "    'n_estimators': [10, 50, 100],\n",
    "    'max_depth': [None, 20],\n",
    "    'min_samples_split': [2, 5],\n",
    "    'min_samples_leaf': [1, 2]\n",
    "}\n",
    "\n",
    "# Grid Search\n",
    "grid_search = GridSearchCV(rf, param_grid, cv=3, scoring='accuracy', n_jobs=-1)\n",
    "grid_search.fit(X_train_balanced, y_train_balanced)\n",
    "\n",
    "# Best parameters and evaluation\n",
    "print(\"Best Parameters:\", grid_search.best_params_)\n",
    "print(\"Best Accuracy:\", grid_search.best_score_)\n",
    "\n",
    "# Evaluate the model on the test set\n",
    "best_model = grid_search.best_estimator_\n",
    "y_pred = best_model.predict(X_test)\n"
   ]
  },
  {
   "cell_type": "code",
   "execution_count": 254,
   "metadata": {},
   "outputs": [
    {
     "name": "stdout",
     "output_type": "stream",
     "text": [
      "Epoch 1/20\n"
     ]
    },
    {
     "name": "stderr",
     "output_type": "stream",
     "text": [
      "c:\\Users\\ASUS\\AppData\\Local\\Programs\\Python\\Python312\\Lib\\site-packages\\keras\\src\\layers\\core\\dense.py:87: UserWarning: Do not pass an `input_shape`/`input_dim` argument to a layer. When using Sequential models, prefer using an `Input(shape)` object as the first layer in the model instead.\n",
      "  super().__init__(activity_regularizer=activity_regularizer, **kwargs)\n"
     ]
    },
    {
     "name": "stdout",
     "output_type": "stream",
     "text": [
      "\u001b[1m1873/1873\u001b[0m \u001b[32m━━━━━━━━━━━━━━━━━━━━\u001b[0m\u001b[37m\u001b[0m \u001b[1m2s\u001b[0m 801us/step - accuracy: 0.8798 - loss: 0.2894 - val_accuracy: 0.6272 - val_loss: 0.9125\n",
      "Epoch 2/20\n",
      "\u001b[1m1873/1873\u001b[0m \u001b[32m━━━━━━━━━━━━━━━━━━━━\u001b[0m\u001b[37m\u001b[0m \u001b[1m1s\u001b[0m 706us/step - accuracy: 0.9123 - loss: 0.2044 - val_accuracy: 0.6919 - val_loss: 0.7193\n",
      "Epoch 3/20\n",
      "\u001b[1m1873/1873\u001b[0m \u001b[32m━━━━━━━━━━━━━━━━━━━━\u001b[0m\u001b[37m\u001b[0m \u001b[1m1s\u001b[0m 682us/step - accuracy: 0.9151 - loss: 0.1970 - val_accuracy: 0.6634 - val_loss: 0.8398\n",
      "Epoch 4/20\n",
      "\u001b[1m1873/1873\u001b[0m \u001b[32m━━━━━━━━━━━━━━━━━━━━\u001b[0m\u001b[37m\u001b[0m \u001b[1m1s\u001b[0m 646us/step - accuracy: 0.9189 - loss: 0.1908 - val_accuracy: 0.6704 - val_loss: 0.7706\n",
      "Epoch 5/20\n",
      "\u001b[1m1873/1873\u001b[0m \u001b[32m━━━━━━━━━━━━━━━━━━━━\u001b[0m\u001b[37m\u001b[0m \u001b[1m1s\u001b[0m 750us/step - accuracy: 0.9208 - loss: 0.1852 - val_accuracy: 0.6475 - val_loss: 0.9023\n",
      "Epoch 6/20\n",
      "\u001b[1m1873/1873\u001b[0m \u001b[32m━━━━━━━━━━━━━━━━━━━━\u001b[0m\u001b[37m\u001b[0m \u001b[1m1s\u001b[0m 615us/step - accuracy: 0.9184 - loss: 0.1900 - val_accuracy: 0.6265 - val_loss: 1.0147\n",
      "Epoch 7/20\n",
      "\u001b[1m1873/1873\u001b[0m \u001b[32m━━━━━━━━━━━━━━━━━━━━\u001b[0m\u001b[37m\u001b[0m \u001b[1m1s\u001b[0m 634us/step - accuracy: 0.9197 - loss: 0.1865 - val_accuracy: 0.6348 - val_loss: 0.9574\n",
      "Epoch 8/20\n",
      "\u001b[1m1873/1873\u001b[0m \u001b[32m━━━━━━━━━━━━━━━━━━━━\u001b[0m\u001b[37m\u001b[0m \u001b[1m1s\u001b[0m 712us/step - accuracy: 0.9220 - loss: 0.1850 - val_accuracy: 0.6370 - val_loss: 0.9622\n",
      "Epoch 9/20\n",
      "\u001b[1m1873/1873\u001b[0m \u001b[32m━━━━━━━━━━━━━━━━━━━━\u001b[0m\u001b[37m\u001b[0m \u001b[1m1s\u001b[0m 786us/step - accuracy: 0.9242 - loss: 0.1808 - val_accuracy: 0.6664 - val_loss: 0.8525\n",
      "Epoch 10/20\n",
      "\u001b[1m1873/1873\u001b[0m \u001b[32m━━━━━━━━━━━━━━━━━━━━\u001b[0m\u001b[37m\u001b[0m \u001b[1m1s\u001b[0m 686us/step - accuracy: 0.9225 - loss: 0.1808 - val_accuracy: 0.6712 - val_loss: 0.8531\n",
      "Epoch 11/20\n",
      "\u001b[1m1873/1873\u001b[0m \u001b[32m━━━━━━━━━━━━━━━━━━━━\u001b[0m\u001b[37m\u001b[0m \u001b[1m1s\u001b[0m 632us/step - accuracy: 0.9252 - loss: 0.1760 - val_accuracy: 0.6450 - val_loss: 0.9275\n",
      "Epoch 12/20\n",
      "\u001b[1m1873/1873\u001b[0m \u001b[32m━━━━━━━━━━━━━━━━━━━━\u001b[0m\u001b[37m\u001b[0m \u001b[1m1s\u001b[0m 726us/step - accuracy: 0.9238 - loss: 0.1763 - val_accuracy: 0.6922 - val_loss: 0.7574\n",
      "Epoch 13/20\n",
      "\u001b[1m1873/1873\u001b[0m \u001b[32m━━━━━━━━━━━━━━━━━━━━\u001b[0m\u001b[37m\u001b[0m \u001b[1m1s\u001b[0m 694us/step - accuracy: 0.9264 - loss: 0.1753 - val_accuracy: 0.6565 - val_loss: 0.9145\n",
      "Epoch 14/20\n",
      "\u001b[1m1873/1873\u001b[0m \u001b[32m━━━━━━━━━━━━━━━━━━━━\u001b[0m\u001b[37m\u001b[0m \u001b[1m1s\u001b[0m 708us/step - accuracy: 0.9272 - loss: 0.1715 - val_accuracy: 0.6704 - val_loss: 0.8593\n",
      "Epoch 15/20\n",
      "\u001b[1m1873/1873\u001b[0m \u001b[32m━━━━━━━━━━━━━━━━━━━━\u001b[0m\u001b[37m\u001b[0m \u001b[1m1s\u001b[0m 685us/step - accuracy: 0.9288 - loss: 0.1702 - val_accuracy: 0.6633 - val_loss: 0.8761\n",
      "Epoch 16/20\n",
      "\u001b[1m1873/1873\u001b[0m \u001b[32m━━━━━━━━━━━━━━━━━━━━\u001b[0m\u001b[37m\u001b[0m \u001b[1m1s\u001b[0m 676us/step - accuracy: 0.9286 - loss: 0.1691 - val_accuracy: 0.6742 - val_loss: 0.8417\n",
      "Epoch 17/20\n",
      "\u001b[1m1873/1873\u001b[0m \u001b[32m━━━━━━━━━━━━━━━━━━━━\u001b[0m\u001b[37m\u001b[0m \u001b[1m1s\u001b[0m 682us/step - accuracy: 0.9290 - loss: 0.1703 - val_accuracy: 0.6522 - val_loss: 0.9144\n",
      "Epoch 18/20\n",
      "\u001b[1m1873/1873\u001b[0m \u001b[32m━━━━━━━━━━━━━━━━━━━━\u001b[0m\u001b[37m\u001b[0m \u001b[1m1s\u001b[0m 705us/step - accuracy: 0.9283 - loss: 0.1676 - val_accuracy: 0.6757 - val_loss: 0.8424\n",
      "Epoch 19/20\n",
      "\u001b[1m1873/1873\u001b[0m \u001b[32m━━━━━━━━━━━━━━━━━━━━\u001b[0m\u001b[37m\u001b[0m \u001b[1m1s\u001b[0m 717us/step - accuracy: 0.9308 - loss: 0.1646 - val_accuracy: 0.6897 - val_loss: 0.8116\n",
      "Epoch 20/20\n",
      "\u001b[1m1873/1873\u001b[0m \u001b[32m━━━━━━━━━━━━━━━━━━━━\u001b[0m\u001b[37m\u001b[0m \u001b[1m1s\u001b[0m 642us/step - accuracy: 0.9304 - loss: 0.1654 - val_accuracy: 0.6672 - val_loss: 0.8642\n",
      "Test Loss: 0.8642, Test Accuracy: 0.6672\n"
     ]
    }
   ],
   "source": [
    "X = data.drop(columns=['y'])\n",
    "y = data['y']\n",
    "\n",
    "# select best features\n",
    "feature_selection = SelectKBest(score_func = mutual_info_classif, k = 30)\n",
    "X_selected = feature_selection.fit_transform(X, y)\n",
    "\n",
    "# split data set\n",
    "X_train, X_test, y_train, y_test = train_test_split(X_selected, y, test_size=0.25, random_state=40)\n",
    "\n",
    "# apply the smote to baance target variable\n",
    "smote = SMOTE(random_state=40)\n",
    "X_train_balanced, y_train_balanced = smote.fit_resample(X_train, y_train)\n",
    "\n",
    "# Scale the features\n",
    "scaler = StandardScaler()\n",
    "X_train_scaled = scaler.fit_transform(X_train_balanced)\n",
    "X_test_scaled = scaler.fit_transform(X_test)\n",
    "\n",
    "# Build the neural network\n",
    "model = Sequential([\n",
    "    Dense(64, activation='relu', input_shape=(X_train_scaled.shape[1],)),\n",
    "    Dense(32, activation='relu'),\n",
    "    Dense(1 if len(np.unique(y)) == 2 else len(np.unique(y)), activation='sigmoid' if len(np.unique(y)) == 2 else 'softmax')\n",
    "])\n",
    "\n",
    "# Compile the model\n",
    "model.compile(optimizer='adam', \n",
    "              loss='binary_crossentropy' if len(np.unique(y)) == 2 else 'sparse_categorical_crossentropy', \n",
    "              metrics=['accuracy'])\n",
    "\n",
    "# Train the model\n",
    "history = model.fit(X_train_scaled, y_train_balanced, epochs=20, batch_size=32, validation_data=(X_test_scaled, y_test))\n",
    "\n",
    "# Evaluate the model\n",
    "test_loss, test_accuracy = model.evaluate(X_test_scaled, y_test, verbose=0)\n",
    "print(f\"Test Loss: {test_loss:.4f}, Test Accuracy: {test_accuracy:.4f}\")\n"
   ]
  },
  {
   "cell_type": "code",
   "execution_count": 247,
   "metadata": {},
   "outputs": [
    {
     "name": "stdout",
     "output_type": "stream",
     "text": [
      "\u001b[1m354/354\u001b[0m \u001b[32m━━━━━━━━━━━━━━━━━━━━\u001b[0m\u001b[37m\u001b[0m \u001b[1m0s\u001b[0m 388us/step\n",
      "Predicted y values:\n",
      "[[1.        ]\n",
      " [1.        ]\n",
      " [1.        ]\n",
      " ...\n",
      " [0.20046031]\n",
      " [0.9922421 ]\n",
      " [1.        ]]\n"
     ]
    }
   ],
   "source": [
    "y_pred = model.predict(X_test)\n",
    "\n",
    "# Print the predictions\n",
    "print(\"Predicted y values:\")\n",
    "print(y_pred)"
   ]
  },
  {
   "cell_type": "code",
   "execution_count": 248,
   "metadata": {},
   "outputs": [
    {
     "data": {
      "text/plain": [
       "42663    0\n",
       "812      0\n",
       "11294    0\n",
       "45117    0\n",
       "19520    0\n",
       "Name: y, dtype: int64"
      ]
     },
     "execution_count": 248,
     "metadata": {},
     "output_type": "execute_result"
    }
   ],
   "source": [
    "y_test.head()"
   ]
  },
  {
   "cell_type": "code",
   "execution_count": 249,
   "metadata": {},
   "outputs": [
    {
     "data": {
      "text/plain": [
       "y\n",
       "0    39922\n",
       "1     5289\n",
       "Name: count, dtype: int64"
      ]
     },
     "execution_count": 249,
     "metadata": {},
     "output_type": "execute_result"
    }
   ],
   "source": [
    "y.value_counts()"
   ]
  },
  {
   "cell_type": "code",
   "execution_count": null,
   "metadata": {},
   "outputs": [],
   "source": []
  }
 ],
 "metadata": {
  "kernelspec": {
   "display_name": "Python 3",
   "language": "python",
   "name": "python3"
  },
  "language_info": {
   "codemirror_mode": {
    "name": "ipython",
    "version": 3
   },
   "file_extension": ".py",
   "mimetype": "text/x-python",
   "name": "python",
   "nbconvert_exporter": "python",
   "pygments_lexer": "ipython3",
   "version": "3.12.6"
  }
 },
 "nbformat": 4,
 "nbformat_minor": 2
}
