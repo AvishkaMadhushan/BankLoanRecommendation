{
 "cells": [
  {
   "cell_type": "code",
   "execution_count": 199,
   "metadata": {},
   "outputs": [],
   "source": [
    "import pandas as pd\n",
    "from sklearn.ensemble import RandomForestClassifier\n",
    "from sklearn.model_selection import train_test_split,GridSearchCV\n",
    "import numpy as np\n",
    "import matplotlib.pyplot as plt\n",
    "from sklearn.metrics import classification_report"
   ]
  },
  {
   "cell_type": "code",
   "execution_count": 193,
   "metadata": {},
   "outputs": [],
   "source": [
    "data = pd.read_csv('bank_data.csv')\n",
    "\n",
    "# convert to binary values of housing, loan, default\n",
    "data['housing'] = data['housing'].map({'yes' : 1, 'no' : 0})\n",
    "data['default'] = data['default'].map({'yes': 1, 'no' :0})\n",
    "data['loan'] = data['loan'].map({'yes' :1, 'no' :0})\n",
    "\n",
    "\n",
    "# encode martial type\n",
    "data['marital_single'] = data['marital'].apply(lambda x:1 if 'single' in x else 0)\n",
    "data['marital_married'] = data['marital'].apply(lambda x:1 if 'married' in x else 0)\n",
    "data['marital_divorced'] = data['marital'].apply(lambda x:1 if 'divorced' in x else 0)\n",
    "\n",
    "# encode education type\n",
    "data['education_primary'] = data['education'].apply(lambda x:1 if 'primary' in x else 0 )\n",
    "data['education_secondary'] = data['education'].apply(lambda x:1 if 'secondary' in x else 0 )\n",
    "data['education_tertiary'] = data['education'].apply(lambda x:1 if 'tertiary' in x else 0 )\n",
    "data['education_others'] = data['education'].apply(lambda x:1 if 'others' in x else 0 )\n",
    "\n",
    "# encode contact type\n",
    "data['contact_cellular'] = data['contact'].apply(lambda x:1 if 'cellular' in x else 0)\n",
    "data['contact_telephone'] = data['contact'].apply(lambda x:1 if 'telephone' in x else 0)\n",
    "data['contact_unknown'] = data['contact'].apply(lambda x:1 if 'unknown' in x else 0)\n",
    "\n",
    "# one hot encode of job type\n",
    "def job_type(input):\n",
    "    if input == 'self-employed' or input == 'entrepreneur' or input == 'unemployed' or input == 'housemaid' or input == 'student' or input == 'unknown' :\n",
    "        return 'other_job'\n",
    "    else:\n",
    "        return input\n",
    "data['job'] = data['job'].apply(job_type)\n",
    "\n",
    "data['blue-collar'] = data['job'].apply(lambda x:1 if 'blue-collar' in x else 0)\n",
    "data['management'] = data['job'].apply(lambda x:1 if 'management' in x else 0)\n",
    "data['technician'] = data['job'].apply(lambda x:1 if 'technician' in x else 0)\n",
    "data['admin'] = data['job'].apply(lambda x:1 if 'admin' in x else 0)\n",
    "data['services'] = data['job'].apply(lambda x:1 if 'services' in x else 0)\n",
    "data['retired'] = data['job'].apply(lambda x:1 if 'retired' in x else 0)\n",
    "data['other_job'] = data['job'].apply(lambda x:1 if 'other_job' in x else 0)\n",
    "\n",
    "# one hot encoding of poutcome\n",
    "data['poutcome_unknown'] = data['poutcome'].apply(lambda x:1 if 'unknown' in x else 0)\n",
    "data['poutcome_failure'] = data['poutcome'].apply(lambda x:1 if 'failure' in x else 0)\n",
    "data['poutcome_other'] = data['poutcome'].apply(lambda x:1 if 'other' in x else 0)\n",
    "data['poutcome_success'] = data['poutcome'].apply(lambda x:1 if 'success' in x else 0)\n",
    "\n",
    "# one hot encoding of y values\n",
    "data['y'] = data['y'].map({'yes' :1, 'no' :0})\n",
    "\n",
    "# one hot encoding of months\n",
    "data['jan_month'] = data['month'].apply(lambda x:1 if 'jan' in x else 0)\n",
    "data['feb_month'] = data['month'].apply(lambda x:1 if 'feb' in x else 0)\n",
    "data['mar_month'] = data['month'].apply(lambda x:1 if 'mar' in x else 0)\n",
    "data['apr_month'] = data['month'].apply(lambda x:1 if 'apr' in x else 0)\n",
    "data['may_month'] = data['month'].apply(lambda x:1 if 'may' in x else 0)\n",
    "data['jun_month'] = data['month'].apply(lambda x:1 if 'jun' in x else 0)\n",
    "data['jul_month'] = data['month'].apply(lambda x:1 if 'jul' in x else 0)\n",
    "data['aug_month'] = data['month'].apply(lambda x:1 if 'aug' in x else 0)\n",
    "data['sep_month'] = data['month'].apply(lambda x:1 if 'sep' in x else 0)\n",
    "data['oct_month'] = data['month'].apply(lambda x:1 if 'oct' in x else 0)\n",
    "data['nov_month'] = data['month'].apply(lambda x:1 if 'nov' in x else 0)\n",
    "data['dec_month'] = data['month'].apply(lambda x:1 if 'dec' in x else 0)\n",
    "\n",
    "\n",
    "# remove columns\n",
    "data = data.drop(columns=['education', 'marital', 'contact', 'job', 'month', 'poutcome'])\n",
    "\n",
    "# one hot encoding of data set\n",
    "data = pd.get_dummies(data)\n",
    "\n",
    "\n"
   ]
  },
  {
   "cell_type": "code",
   "execution_count": 212,
   "metadata": {},
   "outputs": [
    {
     "name": "stdout",
     "output_type": "stream",
     "text": [
      "Best Parameters: {'max_depth': 20, 'min_samples_leaf': 2, 'min_samples_split': 2, 'n_estimators': 100}\n",
      "Accuracy: 0.9069835903509303\n"
     ]
    }
   ],
   "source": [
    "# split the dataset into features and target\n",
    "X = data.drop(columns=['y'])\n",
    "y = data['y']\n",
    "\n",
    "# split data into training and testing sets\n",
    "X_train, X_test, y_train, y_test = train_test_split(X, y, test_size=0.25, random_state=40 )\n",
    "\n",
    "# Hyperparameter grid\n",
    "param_grid = {\n",
    "    'n_estimators': [10, 50, 100],\n",
    "    'max_depth': [None, 20],\n",
    "    'min_samples_split': [2, 5],\n",
    "    'min_samples_leaf': [1, 2]\n",
    "}\n",
    "\n",
    "# Grid Search\n",
    "grid_search = GridSearchCV(rf, param_grid, cv=3, scoring='accuracy', n_jobs=-1)\n",
    "grid_search.fit(X_train, y_train)\n",
    "\n",
    "# Best parameters and evaluation\n",
    "print(\"Best Parameters:\", grid_search.best_params_)\n",
    "print(\"Accuracy:\", grid_search.best_score_)\n",
    "\n",
    "\n",
    "\n",
    "\n",
    "\n"
   ]
  },
  {
   "cell_type": "code",
   "execution_count": null,
   "metadata": {},
   "outputs": [],
   "source": []
  }
 ],
 "metadata": {
  "kernelspec": {
   "display_name": "Python 3",
   "language": "python",
   "name": "python3"
  },
  "language_info": {
   "codemirror_mode": {
    "name": "ipython",
    "version": 3
   },
   "file_extension": ".py",
   "mimetype": "text/x-python",
   "name": "python",
   "nbconvert_exporter": "python",
   "pygments_lexer": "ipython3",
   "version": "3.12.6"
  }
 },
 "nbformat": 4,
 "nbformat_minor": 2
}
